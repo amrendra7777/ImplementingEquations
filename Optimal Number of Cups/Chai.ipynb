{
 "cells": [
  {
   "cell_type": "code",
   "execution_count": 6,
   "id": "caddbdcd",
   "metadata": {},
   "outputs": [],
   "source": [
    "N = [\"chai\", \"masala chai\", \"sweet milk\"]\n",
    "R = [\"water\", \"chaipatti\", \"sugar\", \"ginger\", \"milk\"]\n",
    "a = {resource: {} for resource in R}\n",
    "for product in N:\n",
    "    for resource in R:\n",
    "        a[resource][product] = float(input(\"Enter the value for \" + resource + \"in\" + product + \":\"))"
   ]
  },
  {
   "cell_type": "code",
   "execution_count": 8,
   "id": "cbc9c916",
   "metadata": {},
   "outputs": [],
   "source": [
    "A = []\n",
    "for resource in R:\n",
    "    row = []\n",
    "    for product in N:\n",
    "        row.append(a[resource][product])\n",
    "    A.append(row)"
   ]
  },
  {
   "cell_type": "code",
   "execution_count": 9,
   "id": "84017738",
   "metadata": {},
   "outputs": [
    {
     "data": {
      "text/plain": [
       "[[0.5, 0.25, 0.25],\n",
       " [2.0, 2.0, 0.0],\n",
       " [2.0, 2.0, 2.0],\n",
       " [1.0, 2.0, 0.0],\n",
       " [1.0, 2.0, 1.0]]"
      ]
     },
     "execution_count": 9,
     "metadata": {},
     "output_type": "execute_result"
    }
   ],
   "source": [
    "A"
   ]
  },
  {
   "cell_type": "code",
   "execution_count": null,
   "id": "8fa370cc",
   "metadata": {},
   "outputs": [],
   "source": [
    "b = [20, 40, 50, 10, 30]\n",
    "x = []\n",
    "for product in N:\n",
    "    for resource in R:\n",
    "        for product in N:\n",
    "            b[resource] += a[0][0]*x[product]"
   ]
  }
 ],
 "metadata": {
  "kernelspec": {
   "display_name": ".venv",
   "language": "python",
   "name": "python3"
  },
  "language_info": {
   "codemirror_mode": {
    "name": "ipython",
    "version": 3
   },
   "file_extension": ".py",
   "mimetype": "text/x-python",
   "name": "python",
   "nbconvert_exporter": "python",
   "pygments_lexer": "ipython3",
   "version": "3.12.3"
  }
 },
 "nbformat": 4,
 "nbformat_minor": 5
}
